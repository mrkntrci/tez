{
 "cells": [
  {
   "cell_type": "code",
   "execution_count": 3,
   "metadata": {},
   "outputs": [],
   "source": [
    "import json\n",
    "from pprint import pprint\n",
    "\n",
    "with open('SampleDataset1.json') as f:\n",
    "    data = json.load(f)"
   ]
  },
  {
   "cell_type": "code",
   "execution_count": 4,
   "metadata": {
    "scrolled": false
   },
   "outputs": [
    {
     "data": {
      "text/plain": [
       "{'type': 'tabular',\n",
       " 'sourceMapping': {'1': 'ConnectivityAssociation',\n",
       "  '6': 'QS10085.UNADMIN.ElectricDistributionDevice',\n",
       "  '7': 'QS10085.UNADMIN.ElectricDistributionLine',\n",
       "  '9': 'QS10085.UNADMIN.ElectricDistributionJunction'},\n",
       " 'rows': [{'viaNetworkSourceId': 7,\n",
       "   'viaGlobalId': '{422E6D62-F68E-4DDE-A3D1-F5466B6A136C}',\n",
       "   'viaAssetGroupName': 'Low Voltage',\n",
       "   'viaGeometry': {'hasZ': True,\n",
       "    'hasM': True,\n",
       "    'paths': [[[6815682.8859009, 1843065.8213627934, 0, None],\n",
       "      [6815770.943795651, 1843051.7833331376, 0, None]]]},\n",
       "   'fromNetworkSourceId': 9,\n",
       "   'fromGlobalId': '{68166019-ACD0-4F1F-985D-3662839E07D2}',\n",
       "   'fromAssetGroupName': 'Connection Point',\n",
       "   'fromTerminalId': 1,\n",
       "   'fromGeometry': {'x': 6815682.8859009,\n",
       "    'y': 1843065.8213627934,\n",
       "    'z': 0,\n",
       "    'm': None},\n",
       "   'toNetworkSourceId': 9,\n",
       "   'toGlobalId': '{DFB0008E-F20C-4745-9E73-A1D96E99FE4E}',\n",
       "   'toAssetGroupName': 'Connection Point',\n",
       "   'toTerminalId': 1,\n",
       "   'toGeometry': {'x': 6815770.943795651,\n",
       "    'y': 1843051.7833331376,\n",
       "    'z': 0,\n",
       "    'm': None}},\n",
       "  {'viaNetworkSourceId': 7,\n",
       "   'viaGlobalId': '{3647AF50-06F6-4053-A1C6-A9A2833D78FE}',\n",
       "   'viaAssetGroupName': 'Low Voltage',\n",
       "   'viaGeometry': {'hasZ': True,\n",
       "    'hasM': True,\n",
       "    'paths': [[[6815770.943795651, 1843051.7833331376, 0, None],\n",
       "      [6815828.628063485, 1843080.625467047, 0, None],\n",
       "      [6815957.268882319, 1843079.859720543, 0, None]]]},\n",
       "   'fromNetworkSourceId': 9,\n",
       "   'fromGlobalId': '{DFB0008E-F20C-4745-9E73-A1D96E99FE4E}',\n",
       "   'fromAssetGroupName': 'Connection Point',\n",
       "   'fromTerminalId': 1,\n",
       "   'fromGeometry': {'x': 6815770.943795651,\n",
       "    'y': 1843051.7833331376,\n",
       "    'z': 0,\n",
       "    'm': None},\n",
       "   'toNetworkSourceId': 9,\n",
       "   'toGlobalId': '{33EF1143-FA6E-48FA-93DD-858AFBC67D54}',\n",
       "   'toAssetGroupName': 'Connection Point',\n",
       "   'toTerminalId': 1,\n",
       "   'toGeometry': {'x': 6815957.268882319,\n",
       "    'y': 1843079.859720543,\n",
       "    'z': 0,\n",
       "    'm': None}},\n",
       "  {'viaNetworkSourceId': 7,\n",
       "   'viaGlobalId': '{EE46069E-2658-4E1F-94AA-3CAA400D0AC7}',\n",
       "   'viaAssetGroupName': 'Low Voltage',\n",
       "   'viaGeometry': {'hasZ': True,\n",
       "    'hasM': True,\n",
       "    'paths': [[[6815610.142279983, 1843125.8028701246, 0, None],\n",
       "      [6815620.351905227, 1843110.2333474606, 0, None],\n",
       "      [6815646.897127733, 1843101.0447175503, 0, None],\n",
       "      [6815682.8859009, 1843065.8213627934, 0, None]]]},\n",
       "   'fromNetworkSourceId': 9,\n",
       "   'fromGlobalId': '{2B6225F3-6544-4995-BA7D-7908113B5E87}',\n",
       "   'fromAssetGroupName': 'Connection Point',\n",
       "   'fromTerminalId': 1,\n",
       "   'fromGeometry': {'x': 6815610.142279983,\n",
       "    'y': 1843125.8028701246,\n",
       "    'z': 0,\n",
       "    'm': None},\n",
       "   'toNetworkSourceId': 9,\n",
       "   'toGlobalId': '{68166019-ACD0-4F1F-985D-3662839E07D2}',\n",
       "   'toAssetGroupName': 'Connection Point',\n",
       "   'toTerminalId': 1,\n",
       "   'toGeometry': {'x': 6815682.8859009,\n",
       "    'y': 1843065.8213627934,\n",
       "    'z': 0,\n",
       "    'm': None}},\n",
       "  {'viaNetworkSourceId': 7,\n",
       "   'viaGlobalId': '{809EAECD-B9A2-4DDE-BAEC-CED0B4D75035}',\n",
       "   'viaAssetGroupName': 'Low Voltage',\n",
       "   'viaGeometry': {'hasZ': True,\n",
       "    'hasM': True,\n",
       "    'paths': [[[6815552.713260978, 1843226.622878462, 0, None],\n",
       "      [6815552.968509808, 1843190.8890260458, 0, None],\n",
       "      [6815610.142279983, 1843125.8028701246, 0, None]]]},\n",
       "   'fromNetworkSourceId': 9,\n",
       "   'fromGlobalId': '{1861FC2A-187C-4A47-88AB-8D6CDF90A712}',\n",
       "   'fromAssetGroupName': 'Connection Point',\n",
       "   'fromTerminalId': 1,\n",
       "   'fromGeometry': {'x': 6815552.713260978,\n",
       "    'y': 1843226.622878462,\n",
       "    'z': 0,\n",
       "    'm': None},\n",
       "   'toNetworkSourceId': 9,\n",
       "   'toGlobalId': '{2B6225F3-6544-4995-BA7D-7908113B5E87}',\n",
       "   'toAssetGroupName': 'Connection Point',\n",
       "   'toTerminalId': 1,\n",
       "   'toGeometry': {'x': 6815610.142279983,\n",
       "    'y': 1843125.8028701246,\n",
       "    'z': 0,\n",
       "    'm': None}},\n",
       "  {'viaNetworkSourceId': 7,\n",
       "   'viaGlobalId': '{6AFD0387-AF97-4D78-B2C5-52D75EAF4AF9}',\n",
       "   'viaAssetGroupName': 'Low Voltage',\n",
       "   'viaGeometry': {'hasZ': True,\n",
       "    'hasM': True,\n",
       "    'paths': [[[6815957.268882319, 1843079.859720543, 0, None],\n",
       "      [6815960.331868306, 1842957.0892968029, 0, None],\n",
       "      [6815975.135644481, 1842907.5726635456, 0, None]]]},\n",
       "   'fromNetworkSourceId': 9,\n",
       "   'fromGlobalId': '{33EF1143-FA6E-48FA-93DD-858AFBC67D54}',\n",
       "   'fromAssetGroupName': 'Connection Point',\n",
       "   'fromTerminalId': 1,\n",
       "   'fromGeometry': {'x': 6815957.268882319,\n",
       "    'y': 1843079.859720543,\n",
       "    'z': 0,\n",
       "    'm': None},\n",
       "   'toNetworkSourceId': 9,\n",
       "   'toGlobalId': '{7FC28536-6F4A-4A9A-B439-1D87AE2D8871}',\n",
       "   'toAssetGroupName': 'Connection Point',\n",
       "   'toTerminalId': 1,\n",
       "   'toGeometry': {'x': 6815975.135644481,\n",
       "    'y': 1842907.5726635456,\n",
       "    'z': 0,\n",
       "    'm': None}},\n",
       "  {'viaNetworkSourceId': 7,\n",
       "   'viaGlobalId': '{F659CB5B-06DB-4438-A70D-19EA1012302E}',\n",
       "   'viaAssetGroupName': 'Low Voltage',\n",
       "   'viaGeometry': {'hasZ': True,\n",
       "    'hasM': True,\n",
       "    'paths': [[[6815718.619425222, 1843338.9284281284, 0, None],\n",
       "      [6815654.043766975, 1843309.3205477148, 0, None],\n",
       "      [6815552.713260978, 1843226.622878462, 0, None]]]},\n",
       "   'fromNetworkSourceId': 9,\n",
       "   'fromGlobalId': '{F790F99C-CF07-4E1E-9243-665378A19043}',\n",
       "   'fromAssetGroupName': 'Connection Point',\n",
       "   'fromTerminalId': 1,\n",
       "   'fromGeometry': {'x': 6815718.619425222,\n",
       "    'y': 1843338.9284281284,\n",
       "    'z': 0,\n",
       "    'm': None},\n",
       "   'toNetworkSourceId': 9,\n",
       "   'toGlobalId': '{1861FC2A-187C-4A47-88AB-8D6CDF90A712}',\n",
       "   'toAssetGroupName': 'Connection Point',\n",
       "   'toTerminalId': 1,\n",
       "   'toGeometry': {'x': 6815552.713260978,\n",
       "    'y': 1843226.622878462,\n",
       "    'z': 0,\n",
       "    'm': None}},\n",
       "  {'viaNetworkSourceId': 1,\n",
       "   'viaGlobalId': '{F128B51F-7B39-4A9A-8B57-487F71E62FE3}',\n",
       "   'viaAssetGroupName': 'Unknown',\n",
       "   'viaGeometry': {},\n",
       "   'fromNetworkSourceId': 6,\n",
       "   'fromGlobalId': '{1E7FD915-33B9-42DD-A66E-486ACACE0453}',\n",
       "   'fromAssetGroupName': 'Service Point',\n",
       "   'fromTerminalId': 1,\n",
       "   'fromGeometry': {'x': 6815901.116107479,\n",
       "    'y': 1842935.649050966,\n",
       "    'z': 0,\n",
       "    'm': None},\n",
       "   'toNetworkSourceId': 9,\n",
       "   'toGlobalId': '{7FC28536-6F4A-4A9A-B439-1D87AE2D8871}',\n",
       "   'toAssetGroupName': 'Connection Point',\n",
       "   'toTerminalId': 1,\n",
       "   'toGeometry': {'x': 6815975.135644481,\n",
       "    'y': 1842907.5726635456,\n",
       "    'z': 0,\n",
       "    'm': None}},\n",
       "  {'viaNetworkSourceId': 1,\n",
       "   'viaGlobalId': '{BCCE8896-50B2-42AE-9117-7FF7BE77A73F}',\n",
       "   'viaAssetGroupName': 'Unknown',\n",
       "   'viaGeometry': {},\n",
       "   'fromNetworkSourceId': 6,\n",
       "   'fromGlobalId': '{A74F2044-365A-4277-9166-71C15062C5B3}',\n",
       "   'fromAssetGroupName': 'Service Point',\n",
       "   'fromTerminalId': 1,\n",
       "   'fromGeometry': {'x': 6815927.661001891,\n",
       "    'y': 1842884.6009247154,\n",
       "    'z': 0,\n",
       "    'm': None},\n",
       "   'toNetworkSourceId': 9,\n",
       "   'toGlobalId': '{7FC28536-6F4A-4A9A-B439-1D87AE2D8871}',\n",
       "   'toAssetGroupName': 'Connection Point',\n",
       "   'toTerminalId': 1,\n",
       "   'toGeometry': {'x': 6815975.135644481,\n",
       "    'y': 1842907.5726635456,\n",
       "    'z': 0,\n",
       "    'm': None}},\n",
       "  {'viaNetworkSourceId': 7,\n",
       "   'viaGlobalId': '{090926D1-4D89-4C0A-9353-CFEEC6CA844E}',\n",
       "   'viaAssetGroupName': 'Low Voltage',\n",
       "   'viaGeometry': {'hasZ': True,\n",
       "    'hasM': True,\n",
       "    'paths': [[[6816245.690221474, 1843044.1261962205, 0, None],\n",
       "      [6816246.966465652, 1843007.1160996258, 0, None],\n",
       "      [6816272.49036473, 1842942.0299437195, 0, None],\n",
       "      [6816318.433842391, 1842898.639282465, 0, None]]]},\n",
       "   'fromNetworkSourceId': 9,\n",
       "   'fromGlobalId': '{12DA3BDE-B801-42BD-99D5-A9CC4F132968}',\n",
       "   'fromAssetGroupName': 'Connection Point',\n",
       "   'fromTerminalId': 1,\n",
       "   'fromGeometry': {'x': 6816245.690221474,\n",
       "    'y': 1843044.1261962205,\n",
       "    'z': 0,\n",
       "    'm': None},\n",
       "   'toNetworkSourceId': 9,\n",
       "   'toGlobalId': '{BC13D7A8-5418-4C4C-844D-ABEEC43B22A2}',\n",
       "   'toAssetGroupName': 'Connection Point',\n",
       "   'toTerminalId': 1,\n",
       "   'toGeometry': {'x': 6816318.433842391,\n",
       "    'y': 1842898.639282465,\n",
       "    'z': 0,\n",
       "    'm': None}},\n",
       "  {'viaNetworkSourceId': 7,\n",
       "   'viaGlobalId': '{C440D53E-833D-466E-8DF8-160C0DC388DA}',\n",
       "   'viaAssetGroupName': 'Low Voltage',\n",
       "   'viaGeometry': {'hasZ': True,\n",
       "    'hasM': True,\n",
       "    'paths': [[[6815946.0382617265, 1843672.7824192196, 0, None],\n",
       "      [6815950.887989566, 1843522.7013545483, 0, None],\n",
       "      [6815953.440477893, 1843350.414297551, 0, None]]]},\n",
       "   'fromNetworkSourceId': 9,\n",
       "   'fromGlobalId': '{155BC438-029D-464E-83CF-6D7898C1AE05}',\n",
       "   'fromAssetGroupName': 'Connection Point',\n",
       "   'fromTerminalId': 1,\n",
       "   'fromGeometry': {'x': 6815950.887989566,\n",
       "    'y': 1843522.7013545483,\n",
       "    'z': 0,\n",
       "    'm': None},\n",
       "   'toNetworkSourceId': 9,\n",
       "   'toGlobalId': '{EA854CD8-F510-4129-8073-EB41BB9629CB}',\n",
       "   'toAssetGroupName': 'Connection Point',\n",
       "   'toTerminalId': 1,\n",
       "   'toGeometry': {'x': 6815953.440477893,\n",
       "    'y': 1843350.414297551,\n",
       "    'z': 0,\n",
       "    'm': None}},\n",
       "  {'viaNetworkSourceId': 7,\n",
       "   'viaGlobalId': '{285562E4-AB74-4FF1-9739-521DB23D45F2}',\n",
       "   'viaAssetGroupName': 'Low Voltage',\n",
       "   'viaGeometry': {'hasZ': True,\n",
       "    'hasM': True,\n",
       "    'paths': [[[6816244.41397731, 1843195.9940027148, 0, None],\n",
       "      [6816245.690221474, 1843044.1261962205, 0, None]]]},\n",
       "   'fromNetworkSourceId': 9,\n",
       "   'fromGlobalId': '{B6FA6D95-13A4-48BE-8712-A6C3068DDF57}',\n",
       "   'fromAssetGroupName': 'Connection Point',\n",
       "   'fromTerminalId': 1,\n",
       "   'fromGeometry': {'x': 6816244.41397731,\n",
       "    'y': 1843195.9940027148,\n",
       "    'z': 0,\n",
       "    'm': None},\n",
       "   'toNetworkSourceId': 9,\n",
       "   'toGlobalId': '{12DA3BDE-B801-42BD-99D5-A9CC4F132968}',\n",
       "   'toAssetGroupName': 'Connection Point',\n",
       "   'toTerminalId': 1,\n",
       "   'toGeometry': {'x': 6816245.690221474,\n",
       "    'y': 1843044.1261962205,\n",
       "    'z': 0,\n",
       "    'm': None}},\n",
       "  {'viaNetworkSourceId': 7,\n",
       "   'viaGlobalId': '{22A202DA-0725-403D-ADC1-BB5250F2BA05}',\n",
       "   'viaAssetGroupName': 'Low Voltage',\n",
       "   'viaGeometry': {'hasZ': True,\n",
       "    'hasM': True,\n",
       "    'paths': [[[6815953.440477893, 1843350.414297551, 0, None],\n",
       "      [6815955.992638141, 1843206.203627959, 0, None],\n",
       "      [6815957.268882319, 1843079.859720543, 0, None]]]},\n",
       "   'fromNetworkSourceId': 9,\n",
       "   'fromGlobalId': '{6F665160-4249-4227-9376-7D5235F78F9F}',\n",
       "   'fromAssetGroupName': 'Connection Point',\n",
       "   'fromTerminalId': 1,\n",
       "   'fromGeometry': {'x': 6815955.992638141,\n",
       "    'y': 1843206.203627959,\n",
       "    'z': 0,\n",
       "    'm': None},\n",
       "   'toNetworkSourceId': 9,\n",
       "   'toGlobalId': '{33EF1143-FA6E-48FA-93DD-858AFBC67D54}',\n",
       "   'toAssetGroupName': 'Connection Point',\n",
       "   'toTerminalId': 1,\n",
       "   'toGeometry': {'x': 6815957.268882319,\n",
       "    'y': 1843079.859720543,\n",
       "    'z': 0,\n",
       "    'm': None}},\n",
       "  {'viaNetworkSourceId': 7,\n",
       "   'viaGlobalId': '{22A202DA-0725-403D-ADC1-BB5250F2BA05}',\n",
       "   'viaAssetGroupName': 'Low Voltage',\n",
       "   'viaGeometry': {'hasZ': True,\n",
       "    'hasM': True,\n",
       "    'paths': [[[6815953.440477893, 1843350.414297551, 0, None],\n",
       "      [6815955.992638141, 1843206.203627959, 0, None],\n",
       "      [6815957.268882319, 1843079.859720543, 0, None]]]},\n",
       "   'fromNetworkSourceId': 9,\n",
       "   'fromGlobalId': '{EA854CD8-F510-4129-8073-EB41BB9629CB}',\n",
       "   'fromAssetGroupName': 'Connection Point',\n",
       "   'fromTerminalId': 1,\n",
       "   'fromGeometry': {'x': 6815953.440477893,\n",
       "    'y': 1843350.414297551,\n",
       "    'z': 0,\n",
       "    'm': None},\n",
       "   'toNetworkSourceId': 9,\n",
       "   'toGlobalId': '{6F665160-4249-4227-9376-7D5235F78F9F}',\n",
       "   'toAssetGroupName': 'Connection Point',\n",
       "   'toTerminalId': 1,\n",
       "   'toGeometry': {'x': 6815955.992638141,\n",
       "    'y': 1843206.203627959,\n",
       "    'z': 0,\n",
       "    'm': None}},\n",
       "  {'viaNetworkSourceId': 7,\n",
       "   'viaGlobalId': '{08FB1D3D-0D2D-47E0-8EE4-0BB8F5D62872}',\n",
       "   'viaAssetGroupName': 'Low Voltage',\n",
       "   'viaGeometry': {'hasZ': True,\n",
       "    'hasM': True,\n",
       "    'paths': [[[6815953.440477893, 1843350.414297551, 0, None],\n",
       "      [6816241.861817062, 1843355.518946126, 0, None]]]},\n",
       "   'fromNetworkSourceId': 9,\n",
       "   'fromGlobalId': '{EA854CD8-F510-4129-8073-EB41BB9629CB}',\n",
       "   'fromAssetGroupName': 'Connection Point',\n",
       "   'fromTerminalId': 1,\n",
       "   'fromGeometry': {'x': 6815953.440477893,\n",
       "    'y': 1843350.414297551,\n",
       "    'z': 0,\n",
       "    'm': None},\n",
       "   'toNetworkSourceId': 9,\n",
       "   'toGlobalId': '{AC919A92-CD35-4586-B9A5-E525749B22E9}',\n",
       "   'toAssetGroupName': 'Connection Point',\n",
       "   'toTerminalId': 1,\n",
       "   'toGeometry': {'x': 6816241.861817062,\n",
       "    'y': 1843355.518946126,\n",
       "    'z': 0,\n",
       "    'm': None}},\n",
       "  {'viaNetworkSourceId': 7,\n",
       "   'viaGlobalId': '{C440D53E-833D-466E-8DF8-160C0DC388DA}',\n",
       "   'viaAssetGroupName': 'Low Voltage',\n",
       "   'viaGeometry': {'hasZ': True,\n",
       "    'hasM': True,\n",
       "    'paths': [[[6815946.0382617265, 1843672.7824192196, 0, None],\n",
       "      [6815950.887989566, 1843522.7013545483, 0, None],\n",
       "      [6815953.440477893, 1843350.414297551, 0, None]]]},\n",
       "   'fromNetworkSourceId': 6,\n",
       "   'fromGlobalId': '{5F396092-90DD-4E07-8C7D-2FB8480771C1}',\n",
       "   'fromAssetGroupName': 'Transformer',\n",
       "   'fromTerminalId': 5,\n",
       "   'fromGeometry': {'x': 6815946.0382617265,\n",
       "    'y': 1843672.7824192196,\n",
       "    'z': 0,\n",
       "    'm': None},\n",
       "   'toNetworkSourceId': 9,\n",
       "   'toGlobalId': '{155BC438-029D-464E-83CF-6D7898C1AE05}',\n",
       "   'toAssetGroupName': 'Connection Point',\n",
       "   'toTerminalId': 1,\n",
       "   'toGeometry': {'x': 6815950.887989566,\n",
       "    'y': 1843522.7013545483,\n",
       "    'z': 0,\n",
       "    'm': None}},\n",
       "  {'viaNetworkSourceId': 7,\n",
       "   'viaGlobalId': '{24EC2CAA-A757-423E-91DC-4FEB1D2B37FB}',\n",
       "   'viaAssetGroupName': 'Low Voltage',\n",
       "   'viaGeometry': {'hasZ': True,\n",
       "    'hasM': True,\n",
       "    'paths': [[[6816241.861817062, 1843355.518946126, 0, None],\n",
       "      [6816244.41397731, 1843195.9940027148, 0, None]]]},\n",
       "   'fromNetworkSourceId': 9,\n",
       "   'fromGlobalId': '{AC919A92-CD35-4586-B9A5-E525749B22E9}',\n",
       "   'fromAssetGroupName': 'Connection Point',\n",
       "   'fromTerminalId': 1,\n",
       "   'fromGeometry': {'x': 6816241.861817062,\n",
       "    'y': 1843355.518946126,\n",
       "    'z': 0,\n",
       "    'm': None},\n",
       "   'toNetworkSourceId': 9,\n",
       "   'toGlobalId': '{B6FA6D95-13A4-48BE-8712-A6C3068DDF57}',\n",
       "   'toAssetGroupName': 'Connection Point',\n",
       "   'toTerminalId': 1,\n",
       "   'toGeometry': {'x': 6816244.41397731,\n",
       "    'y': 1843195.9940027148,\n",
       "    'z': 0,\n",
       "    'm': None}},\n",
       "  {'viaNetworkSourceId': 7,\n",
       "   'viaGlobalId': '{39C59B8C-089C-4122-B0A0-787AAA81A0A5}',\n",
       "   'viaAssetGroupName': 'Low Voltage',\n",
       "   'viaGeometry': {'hasZ': True,\n",
       "    'hasM': True,\n",
       "    'paths': [[[6815953.440477893, 1843350.414297551, 0, None],\n",
       "      [6815799.020183057, 1843353.2217066288, 0, None],\n",
       "      [6815718.619425222, 1843338.9284281284, 0, None]]]},\n",
       "   'fromNetworkSourceId': 9,\n",
       "   'fromGlobalId': '{EA854CD8-F510-4129-8073-EB41BB9629CB}',\n",
       "   'fromAssetGroupName': 'Connection Point',\n",
       "   'fromTerminalId': 1,\n",
       "   'fromGeometry': {'x': 6815953.440477893,\n",
       "    'y': 1843350.414297551,\n",
       "    'z': 0,\n",
       "    'm': None},\n",
       "   'toNetworkSourceId': 9,\n",
       "   'toGlobalId': '{F790F99C-CF07-4E1E-9243-665378A19043}',\n",
       "   'toAssetGroupName': 'Connection Point',\n",
       "   'toTerminalId': 1,\n",
       "   'toGeometry': {'x': 6815718.619425222,\n",
       "    'y': 1843338.9284281284,\n",
       "    'z': 0,\n",
       "    'm': None}}],\n",
       " 'controllers': [{'networkSourceId': 6,\n",
       "   'globalId': '{5F396092-90DD-4E07-8C7D-2FB8480771C1}',\n",
       "   'assetGroupName': 'Transformer',\n",
       "   'terminalId': 5,\n",
       "   'geometry': {'x': 6815946.0382617265,\n",
       "    'y': 1843672.7824192196,\n",
       "    'z': 0,\n",
       "    'm': None}}]}"
      ]
     },
     "execution_count": 4,
     "metadata": {},
     "output_type": "execute_result"
    }
   ],
   "source": [
    "data"
   ]
  },
  {
   "cell_type": "code",
   "execution_count": 12,
   "metadata": {},
   "outputs": [
    {
     "data": {
      "text/plain": [
       "17"
      ]
     },
     "execution_count": 12,
     "metadata": {},
     "output_type": "execute_result"
    }
   ],
   "source": [
    "#Kenar sayısı\n",
    "len(data['rows'])"
   ]
  },
  {
   "cell_type": "code",
   "execution_count": 18,
   "metadata": {},
   "outputs": [
    {
     "name": "stdout",
     "output_type": "stream",
     "text": [
      "{68166019-ACD0-4F1F-985D-3662839E07D2}\n",
      "{DFB0008E-F20C-4745-9E73-A1D96E99FE4E}\n",
      "{2B6225F3-6544-4995-BA7D-7908113B5E87}\n",
      "{1861FC2A-187C-4A47-88AB-8D6CDF90A712}\n",
      "{33EF1143-FA6E-48FA-93DD-858AFBC67D54}\n",
      "{F790F99C-CF07-4E1E-9243-665378A19043}\n",
      "{1E7FD915-33B9-42DD-A66E-486ACACE0453}\n",
      "{A74F2044-365A-4277-9166-71C15062C5B3}\n",
      "{12DA3BDE-B801-42BD-99D5-A9CC4F132968}\n",
      "{155BC438-029D-464E-83CF-6D7898C1AE05}\n",
      "{B6FA6D95-13A4-48BE-8712-A6C3068DDF57}\n",
      "{6F665160-4249-4227-9376-7D5235F78F9F}\n",
      "{EA854CD8-F510-4129-8073-EB41BB9629CB}\n",
      "{EA854CD8-F510-4129-8073-EB41BB9629CB}\n",
      "{5F396092-90DD-4E07-8C7D-2FB8480771C1}\n",
      "{AC919A92-CD35-4586-B9A5-E525749B22E9}\n",
      "{EA854CD8-F510-4129-8073-EB41BB9629CB}\n"
     ]
    }
   ],
   "source": [
    "#from Global Id düğümleri\n",
    "for i in range(len(data['rows'])):\n",
    "    print(data[\"rows\"][i][\"fromGlobalId\"])"
   ]
  },
  {
   "cell_type": "code",
   "execution_count": 19,
   "metadata": {},
   "outputs": [
    {
     "name": "stdout",
     "output_type": "stream",
     "text": [
      "{DFB0008E-F20C-4745-9E73-A1D96E99FE4E}\n",
      "{33EF1143-FA6E-48FA-93DD-858AFBC67D54}\n",
      "{68166019-ACD0-4F1F-985D-3662839E07D2}\n",
      "{2B6225F3-6544-4995-BA7D-7908113B5E87}\n",
      "{7FC28536-6F4A-4A9A-B439-1D87AE2D8871}\n",
      "{1861FC2A-187C-4A47-88AB-8D6CDF90A712}\n",
      "{7FC28536-6F4A-4A9A-B439-1D87AE2D8871}\n",
      "{7FC28536-6F4A-4A9A-B439-1D87AE2D8871}\n",
      "{BC13D7A8-5418-4C4C-844D-ABEEC43B22A2}\n",
      "{EA854CD8-F510-4129-8073-EB41BB9629CB}\n",
      "{12DA3BDE-B801-42BD-99D5-A9CC4F132968}\n",
      "{33EF1143-FA6E-48FA-93DD-858AFBC67D54}\n",
      "{6F665160-4249-4227-9376-7D5235F78F9F}\n",
      "{AC919A92-CD35-4586-B9A5-E525749B22E9}\n",
      "{155BC438-029D-464E-83CF-6D7898C1AE05}\n",
      "{B6FA6D95-13A4-48BE-8712-A6C3068DDF57}\n",
      "{F790F99C-CF07-4E1E-9243-665378A19043}\n"
     ]
    }
   ],
   "source": [
    "#toGlobalId düğümleri\n",
    "for i in range(len(data['rows'])):\n",
    "    print(data[\"rows\"][i][\"toGlobalId\"])"
   ]
  },
  {
   "cell_type": "code",
   "execution_count": 5,
   "metadata": {},
   "outputs": [
    {
     "data": {
      "text/plain": [
       "dict"
      ]
     },
     "execution_count": 5,
     "metadata": {},
     "output_type": "execute_result"
    }
   ],
   "source": [
    "type(data)"
   ]
  },
  {
   "cell_type": "code",
   "execution_count": 16,
   "metadata": {},
   "outputs": [],
   "source": [
    "#Append the fromGlobal's into a new list\n",
    "from_vertices = [] \n",
    "for i in range(len(data['rows'])):\n",
    "    from_vertices.append(data[\"rows\"][i][\"fromGlobalId\"])"
   ]
  },
  {
   "cell_type": "code",
   "execution_count": 17,
   "metadata": {},
   "outputs": [],
   "source": [
    "##Append the toGlobal's into a new list\n",
    "to_vertices = [] \n",
    "for i in range(len(data['rows'])):\n",
    "    to_vertices.append(data[\"rows\"][i][\"toGlobalId\"])"
   ]
  },
  {
   "cell_type": "code",
   "execution_count": 9,
   "metadata": {},
   "outputs": [],
   "source": [
    "matrix = [from_vertices,to_vertices]"
   ]
  },
  {
   "cell_type": "code",
   "execution_count": 92,
   "metadata": {},
   "outputs": [
    {
     "data": {
      "text/plain": [
       "'{33EF1143-FA6E-48FA-93DD-858AFBC67D54}'"
      ]
     },
     "execution_count": 92,
     "metadata": {},
     "output_type": "execute_result"
    }
   ],
   "source": [
    "#HOcam burda matrix listesi bizim giden ve gelen noktaları içeriyor. matrix[0][0] ile matrix[1][0] \n",
    "#aslında bir kenarın iki ucunu oluşturuyor. bunları bir şekilde çekip yeni bir edges listesi oluşturmak istiyorum.\n",
    "#Ondan sonra komşuluk matrisini oluşturabilirim daha rahat diye düşündüm. Gittim yol yanlış da olabilir ama bilmiyorum."
   ]
  },
  {
   "cell_type": "code",
   "execution_count": 10,
   "metadata": {},
   "outputs": [
    {
     "data": {
      "text/plain": [
       "[['{68166019-ACD0-4F1F-985D-3662839E07D2}',\n",
       "  '{DFB0008E-F20C-4745-9E73-A1D96E99FE4E}',\n",
       "  '{2B6225F3-6544-4995-BA7D-7908113B5E87}',\n",
       "  '{1861FC2A-187C-4A47-88AB-8D6CDF90A712}',\n",
       "  '{33EF1143-FA6E-48FA-93DD-858AFBC67D54}',\n",
       "  '{F790F99C-CF07-4E1E-9243-665378A19043}',\n",
       "  '{1E7FD915-33B9-42DD-A66E-486ACACE0453}',\n",
       "  '{A74F2044-365A-4277-9166-71C15062C5B3}',\n",
       "  '{12DA3BDE-B801-42BD-99D5-A9CC4F132968}',\n",
       "  '{155BC438-029D-464E-83CF-6D7898C1AE05}',\n",
       "  '{B6FA6D95-13A4-48BE-8712-A6C3068DDF57}',\n",
       "  '{6F665160-4249-4227-9376-7D5235F78F9F}',\n",
       "  '{EA854CD8-F510-4129-8073-EB41BB9629CB}',\n",
       "  '{EA854CD8-F510-4129-8073-EB41BB9629CB}',\n",
       "  '{5F396092-90DD-4E07-8C7D-2FB8480771C1}',\n",
       "  '{AC919A92-CD35-4586-B9A5-E525749B22E9}',\n",
       "  '{EA854CD8-F510-4129-8073-EB41BB9629CB}'],\n",
       " ['{DFB0008E-F20C-4745-9E73-A1D96E99FE4E}',\n",
       "  '{33EF1143-FA6E-48FA-93DD-858AFBC67D54}',\n",
       "  '{68166019-ACD0-4F1F-985D-3662839E07D2}',\n",
       "  '{2B6225F3-6544-4995-BA7D-7908113B5E87}',\n",
       "  '{7FC28536-6F4A-4A9A-B439-1D87AE2D8871}',\n",
       "  '{1861FC2A-187C-4A47-88AB-8D6CDF90A712}',\n",
       "  '{7FC28536-6F4A-4A9A-B439-1D87AE2D8871}',\n",
       "  '{7FC28536-6F4A-4A9A-B439-1D87AE2D8871}',\n",
       "  '{BC13D7A8-5418-4C4C-844D-ABEEC43B22A2}',\n",
       "  '{EA854CD8-F510-4129-8073-EB41BB9629CB}',\n",
       "  '{12DA3BDE-B801-42BD-99D5-A9CC4F132968}',\n",
       "  '{33EF1143-FA6E-48FA-93DD-858AFBC67D54}',\n",
       "  '{6F665160-4249-4227-9376-7D5235F78F9F}',\n",
       "  '{AC919A92-CD35-4586-B9A5-E525749B22E9}',\n",
       "  '{155BC438-029D-464E-83CF-6D7898C1AE05}',\n",
       "  '{B6FA6D95-13A4-48BE-8712-A6C3068DDF57}',\n",
       "  '{F790F99C-CF07-4E1E-9243-665378A19043}']]"
      ]
     },
     "execution_count": 10,
     "metadata": {},
     "output_type": "execute_result"
    }
   ],
   "source": [
    "matrix"
   ]
  },
  {
   "cell_type": "code",
   "execution_count": 11,
   "metadata": {},
   "outputs": [
    {
     "data": {
      "text/plain": [
       "17"
      ]
     },
     "execution_count": 11,
     "metadata": {},
     "output_type": "execute_result"
    }
   ],
   "source": [
    "len(data['rows'])"
   ]
  },
  {
   "cell_type": "code",
   "execution_count": 15,
   "metadata": {},
   "outputs": [
    {
     "name": "stdout",
     "output_type": "stream",
     "text": [
      "['{68166019-ACD0-4F1F-985D-3662839E07D2}', '{DFB0008E-F20C-4745-9E73-A1D96E99FE4E}', '{2B6225F3-6544-4995-BA7D-7908113B5E87}', '{1861FC2A-187C-4A47-88AB-8D6CDF90A712}', '{33EF1143-FA6E-48FA-93DD-858AFBC67D54}', '{F790F99C-CF07-4E1E-9243-665378A19043}', '{1E7FD915-33B9-42DD-A66E-486ACACE0453}', '{A74F2044-365A-4277-9166-71C15062C5B3}', '{12DA3BDE-B801-42BD-99D5-A9CC4F132968}', '{155BC438-029D-464E-83CF-6D7898C1AE05}', '{B6FA6D95-13A4-48BE-8712-A6C3068DDF57}', '{6F665160-4249-4227-9376-7D5235F78F9F}', '{EA854CD8-F510-4129-8073-EB41BB9629CB}', '{EA854CD8-F510-4129-8073-EB41BB9629CB}', '{5F396092-90DD-4E07-8C7D-2FB8480771C1}', '{AC919A92-CD35-4586-B9A5-E525749B22E9}', '{EA854CD8-F510-4129-8073-EB41BB9629CB}']\n"
     ]
    }
   ],
   "source": [
    "# Burda dediğim gibi matrisin içinden kenarları çekmeye çalışıuyorum ama istediğim sonucu alamıyorum.\n",
    "# böyle yapınca sırasıyla hepsini veriyor sadece.\n",
    "edges = []\n",
    "matrix =[from_vertices,to_vertices]\n",
    "for i in range(0,1):\n",
    "    for j in range(len(data['rows'])):\n",
    "        edges.append(matrix[i][j])\n",
    "print(edges)"
   ]
  },
  {
   "cell_type": "code",
   "execution_count": 22,
   "metadata": {},
   "outputs": [
    {
     "name": "stdout",
     "output_type": "stream",
     "text": [
      "{DFB0008E-F20C-4745-9E73-A1D96E99FE4E}\n",
      "{33EF1143-FA6E-48FA-93DD-858AFBC67D54}\n"
     ]
    }
   ],
   "source": [
    "# Böyle sorgu yapında kenarları tek tek alabiliyorum. Ama bunları ayrı ayrı bir listeye atamadım daha.\n",
    "for i in matrix:\n",
    "  print(i[1])"
   ]
  },
  {
   "cell_type": "code",
   "execution_count": 23,
   "metadata": {},
   "outputs": [
    {
     "data": {
      "text/plain": [
       "'{F790F99C-CF07-4E1E-9243-665378A19043}'"
      ]
     },
     "execution_count": 23,
     "metadata": {},
     "output_type": "execute_result"
    }
   ],
   "source": [
    "matrix[1][16]"
   ]
  },
  {
   "cell_type": "code",
   "execution_count": 24,
   "metadata": {},
   "outputs": [],
   "source": [
    "rows = data['rows']\n"
   ]
  }
 ],
 "metadata": {
  "kernelspec": {
   "display_name": "Python 3",
   "language": "python",
   "name": "python3"
  },
  "language_info": {
   "codemirror_mode": {
    "name": "ipython",
    "version": 3
   },
   "file_extension": ".py",
   "mimetype": "text/x-python",
   "name": "python",
   "nbconvert_exporter": "python",
   "pygments_lexer": "ipython3",
   "version": "3.7.2"
  }
 },
 "nbformat": 4,
 "nbformat_minor": 2
}
